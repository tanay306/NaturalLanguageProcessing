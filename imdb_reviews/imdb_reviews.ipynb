{
  "nbformat": 4,
  "nbformat_minor": 0,
  "metadata": {
    "colab": {
      "name": "imdb_reviews.ipynb",
      "provenance": []
    },
    "kernelspec": {
      "name": "python3",
      "display_name": "Python 3"
    },
    "language_info": {
      "name": "python"
    },
    "accelerator": "TPU"
  },
  "cells": [
    {
      "cell_type": "markdown",
      "metadata": {
        "id": "y-jSHz-5qJYg"
      },
      "source": [
        "## **IMDB MOVIE CLASSIFICATION THROUGH THE DATASET PROVIDED BY TENSORFLOW**"
      ]
    },
    {
      "cell_type": "markdown",
      "metadata": {
        "id": "sN-RStiuqhrf"
      },
      "source": [
        "### **IMPORTING THE LIBRARIES**"
      ]
    },
    {
      "cell_type": "code",
      "metadata": {
        "id": "s-QptkVbqPbo"
      },
      "source": [
        "import tensorflow as tf"
      ],
      "execution_count": 1,
      "outputs": []
    },
    {
      "cell_type": "code",
      "metadata": {
        "colab": {
          "base_uri": "https://localhost:8080/"
        },
        "id": "vwTi46NYqRPF",
        "outputId": "999ff89f-08d4-4e6f-946b-4ecb6672aef0"
      },
      "source": [
        "print(tf.__version__)"
      ],
      "execution_count": 2,
      "outputs": [
        {
          "output_type": "stream",
          "text": [
            "2.5.0\n"
          ],
          "name": "stdout"
        }
      ]
    },
    {
      "cell_type": "markdown",
      "metadata": {
        "id": "ncqaxPmVqpzB"
      },
      "source": [
        "### **IMPORTING THE DATASET**"
      ]
    },
    {
      "cell_type": "code",
      "metadata": {
        "id": "Loyyl6-UqSP2"
      },
      "source": [
        "!pip install -q tensorflow-datasets"
      ],
      "execution_count": 3,
      "outputs": []
    },
    {
      "cell_type": "code",
      "metadata": {
        "id": "dq3CuTP3qVRI"
      },
      "source": [
        "import tensorflow_datasets as tfds\n",
        "imdb, info = tfds.load('imdb_reviews', with_info=True, as_supervised=True)"
      ],
      "execution_count": 4,
      "outputs": []
    },
    {
      "cell_type": "markdown",
      "metadata": {
        "id": "KI_MWhdtqXeG"
      },
      "source": [
        "### **SPLTTING THE DATASET INTO TRAIN AND TEST SETS**"
      ]
    },
    {
      "cell_type": "code",
      "metadata": {
        "id": "FbOkTKMEqVp4"
      },
      "source": [
        "import numpy as np\n",
        "\n",
        "train_data, test_data = imdb['train'], imdb['test']"
      ],
      "execution_count": 5,
      "outputs": []
    },
    {
      "cell_type": "code",
      "metadata": {
        "id": "Y1GN47rkqvt4"
      },
      "source": [
        "training_sentences = []\n",
        "training_labels = []\n",
        "\n",
        "testing_sentences = []\n",
        "testing_labels = []\n",
        "\n",
        "for s,l in train_data:\n",
        "  training_sentences.append(s.numpy().decode('utf8'))\n",
        "  training_labels.append(l.numpy())\n",
        "  \n",
        "for s,l in test_data:\n",
        "  testing_sentences.append(s.numpy().decode('utf8'))\n",
        "  testing_labels.append(l.numpy())\n",
        "  \n",
        "training_labels_final = np.array(training_labels)\n",
        "testing_labels_final = np.array(testing_labels)"
      ],
      "execution_count": 6,
      "outputs": []
    },
    {
      "cell_type": "markdown",
      "metadata": {
        "id": "ulySqRBtq1uw"
      },
      "source": [
        "### **TOKENISATION AND PADDING OF THE DATASET**"
      ]
    },
    {
      "cell_type": "code",
      "metadata": {
        "id": "iBknppIJq1Le"
      },
      "source": [
        "vocab_size = 10000\n",
        "embedding_dim = 16\n",
        "max_length = 120\n",
        "trunc_type='post'\n",
        "oov_tok = \"<OOV>\""
      ],
      "execution_count": 7,
      "outputs": []
    },
    {
      "cell_type": "code",
      "metadata": {
        "id": "chHkYsDmqzIn"
      },
      "source": [
        "from tensorflow.keras.preprocessing.text import Tokenizer\n",
        "from tensorflow.keras.preprocessing.sequence import pad_sequences\n",
        "\n",
        "tokenizer = Tokenizer(num_words = vocab_size, oov_token=oov_tok)\n",
        "tokenizer.fit_on_texts(training_sentences)\n",
        "word_index = tokenizer.word_index\n",
        "sequences = tokenizer.texts_to_sequences(training_sentences)\n",
        "padded = pad_sequences(sequences,maxlen=max_length, truncating=trunc_type)\n",
        "\n",
        "testing_sequences = tokenizer.texts_to_sequences(testing_sentences)\n",
        "testing_padded = pad_sequences(testing_sequences,maxlen=max_length)"
      ],
      "execution_count": 8,
      "outputs": []
    },
    {
      "cell_type": "code",
      "metadata": {
        "colab": {
          "base_uri": "https://localhost:8080/"
        },
        "id": "Arc_y2Zkq98_",
        "outputId": "065da0f1-8aa5-46c2-ad95-4f665a0772a5"
      },
      "source": [
        "reverse_word_index = dict([(value, key) for (key, value) in word_index.items()])\n",
        "\n",
        "def decode_review(text):\n",
        "    return ' '.join([reverse_word_index.get(i, '?') for i in text])\n",
        "\n",
        "print(decode_review(padded[3]))\n",
        "print(training_sentences[3])"
      ],
      "execution_count": 9,
      "outputs": [
        {
          "output_type": "stream",
          "text": [
            "? ? ? ? ? ? ? ? ? ? ? ? ? ? ? ? ? ? ? ? ? ? ? ? ? ? ? ? ? ? ? this is the kind of film for a snowy sunday afternoon when the rest of the world can go ahead with its own business as you <OOV> into a big arm chair and <OOV> for a couple of hours wonderful performances from cher and nicolas cage as always gently row the plot along there are no <OOV> to cross no dangerous waters just a warm and witty <OOV> through new york life at its best a family film in every sense and one that deserves the praise it received\n",
            "This is the kind of film for a snowy Sunday afternoon when the rest of the world can go ahead with its own business as you descend into a big arm-chair and mellow for a couple of hours. Wonderful performances from Cher and Nicolas Cage (as always) gently row the plot along. There are no rapids to cross, no dangerous waters, just a warm and witty paddle through New York life at its best. A family film in every sense and one that deserves the praise it received.\n"
          ],
          "name": "stdout"
        }
      ]
    },
    {
      "cell_type": "markdown",
      "metadata": {
        "id": "JmIkf5BqreQe"
      },
      "source": [
        "### **BUILDING THE MODEL**\n"
      ]
    },
    {
      "cell_type": "code",
      "metadata": {
        "id": "9VxfSPVwrgQA"
      },
      "source": [
        "model = tf.keras.Sequential([\n",
        "    tf.keras.layers.Embedding(vocab_size, embedding_dim, input_length=max_length),\n",
        "    tf.keras.layers.Flatten(),\n",
        "    tf.keras.layers.Dense(6, activation='relu'),\n",
        "    tf.keras.layers.Dense(1, activation='sigmoid')\n",
        "])"
      ],
      "execution_count": 10,
      "outputs": []
    },
    {
      "cell_type": "code",
      "metadata": {
        "colab": {
          "base_uri": "https://localhost:8080/"
        },
        "id": "IAB_m29Orjwn",
        "outputId": "edd1b267-e8d3-44b7-ada3-55fa47a456a3"
      },
      "source": [
        "model.compile(loss='binary_crossentropy',optimizer='adam',metrics=['accuracy'])\n",
        "model.summary()"
      ],
      "execution_count": 11,
      "outputs": [
        {
          "output_type": "stream",
          "text": [
            "Model: \"sequential\"\n",
            "_________________________________________________________________\n",
            "Layer (type)                 Output Shape              Param #   \n",
            "=================================================================\n",
            "embedding (Embedding)        (None, 120, 16)           160000    \n",
            "_________________________________________________________________\n",
            "flatten (Flatten)            (None, 1920)              0         \n",
            "_________________________________________________________________\n",
            "dense (Dense)                (None, 6)                 11526     \n",
            "_________________________________________________________________\n",
            "dense_1 (Dense)              (None, 1)                 7         \n",
            "=================================================================\n",
            "Total params: 171,533\n",
            "Trainable params: 171,533\n",
            "Non-trainable params: 0\n",
            "_________________________________________________________________\n"
          ],
          "name": "stdout"
        }
      ]
    },
    {
      "cell_type": "code",
      "metadata": {
        "colab": {
          "base_uri": "https://localhost:8080/"
        },
        "id": "kXX9JElcrlam",
        "outputId": "c3f51342-0d18-4b38-f971-e9bfec6c202d"
      },
      "source": [
        "num_epochs = 25\n",
        "model.fit(padded, training_labels_final, epochs=num_epochs, validation_data=(testing_padded, testing_labels_final))"
      ],
      "execution_count": 12,
      "outputs": [
        {
          "output_type": "stream",
          "text": [
            "Epoch 1/25\n",
            "782/782 [==============================] - 5s 5ms/step - loss: 0.4946 - accuracy: 0.7408 - val_loss: 0.3511 - val_accuracy: 0.8446\n",
            "Epoch 2/25\n",
            "782/782 [==============================] - 4s 6ms/step - loss: 0.2390 - accuracy: 0.9076 - val_loss: 0.3865 - val_accuracy: 0.8324\n",
            "Epoch 3/25\n",
            "782/782 [==============================] - 4s 5ms/step - loss: 0.0894 - accuracy: 0.9778 - val_loss: 0.4439 - val_accuracy: 0.8317\n",
            "Epoch 4/25\n",
            "782/782 [==============================] - 4s 6ms/step - loss: 0.0212 - accuracy: 0.9973 - val_loss: 0.5331 - val_accuracy: 0.8262\n",
            "Epoch 5/25\n",
            "782/782 [==============================] - 4s 5ms/step - loss: 0.0049 - accuracy: 0.9998 - val_loss: 0.5908 - val_accuracy: 0.8283\n",
            "Epoch 6/25\n",
            "782/782 [==============================] - 4s 5ms/step - loss: 0.0017 - accuracy: 1.0000 - val_loss: 0.6345 - val_accuracy: 0.8300\n",
            "Epoch 7/25\n",
            "782/782 [==============================] - 4s 6ms/step - loss: 7.9913e-04 - accuracy: 1.0000 - val_loss: 0.6782 - val_accuracy: 0.8303\n",
            "Epoch 8/25\n",
            "782/782 [==============================] - 4s 5ms/step - loss: 4.4734e-04 - accuracy: 1.0000 - val_loss: 0.7156 - val_accuracy: 0.8304\n",
            "Epoch 9/25\n",
            "782/782 [==============================] - 4s 5ms/step - loss: 2.6091e-04 - accuracy: 1.0000 - val_loss: 0.7520 - val_accuracy: 0.8304\n",
            "Epoch 10/25\n",
            "782/782 [==============================] - 5s 6ms/step - loss: 1.5468e-04 - accuracy: 1.0000 - val_loss: 0.7889 - val_accuracy: 0.8303\n",
            "Epoch 11/25\n",
            "782/782 [==============================] - 4s 5ms/step - loss: 9.3508e-05 - accuracy: 1.0000 - val_loss: 0.8225 - val_accuracy: 0.8296\n",
            "Epoch 12/25\n",
            "782/782 [==============================] - 5s 6ms/step - loss: 5.8466e-05 - accuracy: 1.0000 - val_loss: 0.8596 - val_accuracy: 0.8301\n",
            "Epoch 13/25\n",
            "782/782 [==============================] - 4s 5ms/step - loss: 3.6502e-05 - accuracy: 1.0000 - val_loss: 0.8937 - val_accuracy: 0.8300\n",
            "Epoch 14/25\n",
            "782/782 [==============================] - 5s 6ms/step - loss: 2.2880e-05 - accuracy: 1.0000 - val_loss: 0.9270 - val_accuracy: 0.8300\n",
            "Epoch 15/25\n",
            "782/782 [==============================] - 5s 6ms/step - loss: 1.4366e-05 - accuracy: 1.0000 - val_loss: 0.9597 - val_accuracy: 0.8297\n",
            "Epoch 16/25\n",
            "782/782 [==============================] - 4s 5ms/step - loss: 9.2595e-06 - accuracy: 1.0000 - val_loss: 0.9944 - val_accuracy: 0.8294\n",
            "Epoch 17/25\n",
            "782/782 [==============================] - 5s 6ms/step - loss: 5.8413e-06 - accuracy: 1.0000 - val_loss: 1.0287 - val_accuracy: 0.8295\n",
            "Epoch 18/25\n",
            "782/782 [==============================] - 4s 5ms/step - loss: 3.7548e-06 - accuracy: 1.0000 - val_loss: 1.0619 - val_accuracy: 0.8295\n",
            "Epoch 19/25\n",
            "782/782 [==============================] - 5s 6ms/step - loss: 2.4102e-06 - accuracy: 1.0000 - val_loss: 1.0947 - val_accuracy: 0.8293\n",
            "Epoch 20/25\n",
            "782/782 [==============================] - 4s 5ms/step - loss: 1.5477e-06 - accuracy: 1.0000 - val_loss: 1.1268 - val_accuracy: 0.8292\n",
            "Epoch 21/25\n",
            "782/782 [==============================] - 5s 6ms/step - loss: 1.0123e-06 - accuracy: 1.0000 - val_loss: 1.1576 - val_accuracy: 0.8294\n",
            "Epoch 22/25\n",
            "782/782 [==============================] - 4s 5ms/step - loss: 6.6536e-07 - accuracy: 1.0000 - val_loss: 1.1943 - val_accuracy: 0.8288\n",
            "Epoch 23/25\n",
            "782/782 [==============================] - 5s 6ms/step - loss: 4.2902e-07 - accuracy: 1.0000 - val_loss: 1.2261 - val_accuracy: 0.8293\n",
            "Epoch 24/25\n",
            "782/782 [==============================] - 5s 6ms/step - loss: 2.8422e-07 - accuracy: 1.0000 - val_loss: 1.2556 - val_accuracy: 0.8291\n",
            "Epoch 25/25\n",
            "782/782 [==============================] - 5s 6ms/step - loss: 1.8957e-07 - accuracy: 1.0000 - val_loss: 1.2847 - val_accuracy: 0.8288\n"
          ],
          "name": "stdout"
        },
        {
          "output_type": "execute_result",
          "data": {
            "text/plain": [
              "<tensorflow.python.keras.callbacks.History at 0x7ff1e295c410>"
            ]
          },
          "metadata": {
            "tags": []
          },
          "execution_count": 12
        }
      ]
    },
    {
      "cell_type": "code",
      "metadata": {
        "colab": {
          "base_uri": "https://localhost:8080/"
        },
        "id": "gQtzjsemsLjx",
        "outputId": "fa4dd5bd-7aee-4053-d692-a22a84d9fd3b"
      },
      "source": [
        "e = model.layers[0]\n",
        "weights = e.get_weights()[0]\n",
        "print(weights.shape) # shape: (vocab_size, embedding_dim)"
      ],
      "execution_count": 13,
      "outputs": [
        {
          "output_type": "stream",
          "text": [
            "(10000, 16)\n"
          ],
          "name": "stdout"
        }
      ]
    },
    {
      "cell_type": "markdown",
      "metadata": {
        "id": "bn5-Wn9OswyG"
      },
      "source": [
        "### **DOWNLOADING THE VECTORS AND META FILES TO VISUALIZE THE EMBEDDINGS**"
      ]
    },
    {
      "cell_type": "code",
      "metadata": {
        "id": "Iyy7AtSxsOre"
      },
      "source": [
        "import io\n",
        "\n",
        "out_v = io.open('vecs.tsv', 'w', encoding='utf-8')\n",
        "out_m = io.open('meta.tsv', 'w', encoding='utf-8')\n",
        "for word_num in range(1, vocab_size):\n",
        "  word = reverse_word_index[word_num]\n",
        "  embeddings = weights[word_num]\n",
        "  out_m.write(word + \"\\n\")\n",
        "  out_v.write('\\t'.join([str(x) for x in embeddings]) + \"\\n\")\n",
        "out_v.close()\n",
        "out_m.close()"
      ],
      "execution_count": 14,
      "outputs": []
    },
    {
      "cell_type": "code",
      "metadata": {
        "colab": {
          "base_uri": "https://localhost:8080/",
          "height": 17
        },
        "id": "Nd99QdxwsQPo",
        "outputId": "4aa9712d-3d78-4192-99c0-8bf72ee92dd4"
      },
      "source": [
        "try:\n",
        "  from google.colab import files\n",
        "except ImportError:\n",
        "  pass\n",
        "else:\n",
        "  files.download('vecs.tsv')\n",
        "  files.download('meta.tsv')"
      ],
      "execution_count": 15,
      "outputs": [
        {
          "output_type": "display_data",
          "data": {
            "application/javascript": [
              "\n",
              "    async function download(id, filename, size) {\n",
              "      if (!google.colab.kernel.accessAllowed) {\n",
              "        return;\n",
              "      }\n",
              "      const div = document.createElement('div');\n",
              "      const label = document.createElement('label');\n",
              "      label.textContent = `Downloading \"${filename}\": `;\n",
              "      div.appendChild(label);\n",
              "      const progress = document.createElement('progress');\n",
              "      progress.max = size;\n",
              "      div.appendChild(progress);\n",
              "      document.body.appendChild(div);\n",
              "\n",
              "      const buffers = [];\n",
              "      let downloaded = 0;\n",
              "\n",
              "      const channel = await google.colab.kernel.comms.open(id);\n",
              "      // Send a message to notify the kernel that we're ready.\n",
              "      channel.send({})\n",
              "\n",
              "      for await (const message of channel.messages) {\n",
              "        // Send a message to notify the kernel that we're ready.\n",
              "        channel.send({})\n",
              "        if (message.buffers) {\n",
              "          for (const buffer of message.buffers) {\n",
              "            buffers.push(buffer);\n",
              "            downloaded += buffer.byteLength;\n",
              "            progress.value = downloaded;\n",
              "          }\n",
              "        }\n",
              "      }\n",
              "      const blob = new Blob(buffers, {type: 'application/binary'});\n",
              "      const a = document.createElement('a');\n",
              "      a.href = window.URL.createObjectURL(blob);\n",
              "      a.download = filename;\n",
              "      div.appendChild(a);\n",
              "      a.click();\n",
              "      div.remove();\n",
              "    }\n",
              "  "
            ],
            "text/plain": [
              "<IPython.core.display.Javascript object>"
            ]
          },
          "metadata": {
            "tags": []
          }
        },
        {
          "output_type": "display_data",
          "data": {
            "application/javascript": [
              "download(\"download_838e9d95-551a-4200-ab65-fc902c67348c\", \"vecs.tsv\", 1904917)"
            ],
            "text/plain": [
              "<IPython.core.display.Javascript object>"
            ]
          },
          "metadata": {
            "tags": []
          }
        },
        {
          "output_type": "display_data",
          "data": {
            "application/javascript": [
              "\n",
              "    async function download(id, filename, size) {\n",
              "      if (!google.colab.kernel.accessAllowed) {\n",
              "        return;\n",
              "      }\n",
              "      const div = document.createElement('div');\n",
              "      const label = document.createElement('label');\n",
              "      label.textContent = `Downloading \"${filename}\": `;\n",
              "      div.appendChild(label);\n",
              "      const progress = document.createElement('progress');\n",
              "      progress.max = size;\n",
              "      div.appendChild(progress);\n",
              "      document.body.appendChild(div);\n",
              "\n",
              "      const buffers = [];\n",
              "      let downloaded = 0;\n",
              "\n",
              "      const channel = await google.colab.kernel.comms.open(id);\n",
              "      // Send a message to notify the kernel that we're ready.\n",
              "      channel.send({})\n",
              "\n",
              "      for await (const message of channel.messages) {\n",
              "        // Send a message to notify the kernel that we're ready.\n",
              "        channel.send({})\n",
              "        if (message.buffers) {\n",
              "          for (const buffer of message.buffers) {\n",
              "            buffers.push(buffer);\n",
              "            downloaded += buffer.byteLength;\n",
              "            progress.value = downloaded;\n",
              "          }\n",
              "        }\n",
              "      }\n",
              "      const blob = new Blob(buffers, {type: 'application/binary'});\n",
              "      const a = document.createElement('a');\n",
              "      a.href = window.URL.createObjectURL(blob);\n",
              "      a.download = filename;\n",
              "      div.appendChild(a);\n",
              "      a.click();\n",
              "      div.remove();\n",
              "    }\n",
              "  "
            ],
            "text/plain": [
              "<IPython.core.display.Javascript object>"
            ]
          },
          "metadata": {
            "tags": []
          }
        },
        {
          "output_type": "display_data",
          "data": {
            "application/javascript": [
              "download(\"download_b47a3d0a-0afd-4b46-baad-443c6f2c608e\", \"meta.tsv\", 76186)"
            ],
            "text/plain": [
              "<IPython.core.display.Javascript object>"
            ]
          },
          "metadata": {
            "tags": []
          }
        }
      ]
    },
    {
      "cell_type": "markdown",
      "metadata": {
        "id": "8ePz5Z-9sqc9"
      },
      "source": [
        "### **TOKENISING A SENTENCE TO SHOW THE SEQUENCE**"
      ]
    },
    {
      "cell_type": "code",
      "metadata": {
        "colab": {
          "base_uri": "https://localhost:8080/"
        },
        "id": "5Q2KrrHksZld",
        "outputId": "400b182a-368b-4855-9143-ac748cf1c732"
      },
      "source": [
        "sentence = \"I really think this is amazing. honest.\"\n",
        "sequence = tokenizer.texts_to_sequences([sentence])\n",
        "print(sequence)"
      ],
      "execution_count": 16,
      "outputs": [
        {
          "output_type": "stream",
          "text": [
            "[[11, 64, 102, 12, 7, 478, 1200]]\n"
          ],
          "name": "stdout"
        }
      ]
    }
  ]
}